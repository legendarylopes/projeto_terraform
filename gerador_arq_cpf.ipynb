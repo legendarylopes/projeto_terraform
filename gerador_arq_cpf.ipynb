{
 "cells": [
  {
   "cell_type": "code",
   "execution_count": 1,
   "metadata": {},
   "outputs": [],
   "source": [
    "from cpf_generator import CPF\n",
    "import csv"
   ]
  },
  {
   "cell_type": "code",
   "execution_count": 2,
   "metadata": {},
   "outputs": [],
   "source": [
    "arq_csv = {}\n",
    "lista_cpf = []\n",
    "for i in range(1000):\n",
    "    cpf = CPF.generate() # Will generate a random CPF # EX: 46064927240\n",
    "    formatedCpf = CPF.format(cpf) # Will format the CPF to be printed in some place # EX: 460.649.272-40\n",
    "    lista_cpf.append(formatedCpf)\n",
    "arq_csv['cpf'] = lista_cpf"
   ]
  },
  {
   "cell_type": "code",
   "execution_count": 3,
   "metadata": {},
   "outputs": [],
   "source": [
    "with open('arquivo.csv', 'w', newline='') as csvfile:\n",
    "    writer = csv.writer(csvfile)\n",
    "    writer.writerow(arq_csv.keys())\n",
    "    for linha in zip(*arq_csv.values()):\n",
    "        writer.writerow(linha)"
   ]
  }
 ],
 "metadata": {
  "kernelspec": {
   "display_name": "Python 3",
   "language": "python",
   "name": "python3"
  },
  "language_info": {
   "codemirror_mode": {
    "name": "ipython",
    "version": 3
   },
   "file_extension": ".py",
   "mimetype": "text/x-python",
   "name": "python",
   "nbconvert_exporter": "python",
   "pygments_lexer": "ipython3",
   "version": "3.10.10"
  },
  "orig_nbformat": 4
 },
 "nbformat": 4,
 "nbformat_minor": 2
}
