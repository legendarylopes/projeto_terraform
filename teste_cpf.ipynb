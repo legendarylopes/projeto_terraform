{
 "cells": [
  {
   "cell_type": "code",
   "execution_count": 9,
   "metadata": {},
   "outputs": [],
   "source": [
    "import pandas as pd\n",
    "import re"
   ]
  },
  {
   "cell_type": "code",
   "execution_count": 16,
   "metadata": {},
   "outputs": [],
   "source": [
    "def lambda_metodo():\n",
    "    list_cpf= ['358.269.668-58','122.220.080-50','103.847.309-15']\n",
    "    validation=True\n",
    "    validation_list =[]\n",
    "    validation_rule = 'Todas as regras ok'\n",
    "    validation_rule_list=[]\n",
    "    cpf_df=pd.DataFrame({'cpf':[],'Regra_de_validacao':[],'validado':[]})\n",
    "    for cpf in list_cpf :\n",
    "  # Verifica a formatação do CPF\n",
    "        if not re.match(r'\\d{3}\\.\\d{3}\\.\\d{3}-\\d{2}', cpf):\n",
    "            validation=False\n",
    "            validation_rule = 'Formato incorreto'\n",
    "\n",
    "    # Obtém apenas os números do CPF, ignorando pontuações\n",
    "        numbers = [int(digit) for digit in cpf if digit.isdigit()]\n",
    "\n",
    "    # Verifica se o CPF possui 11 números ou se todos são iguais:\n",
    "        if len(numbers) != 11 or len(set(numbers)) == 1:\n",
    "            validation=False\n",
    "            validation_rule = 'O cpf não possui 11 dígitos'\n",
    "\n",
    "    # Validação do primeiro dígito verificador:\n",
    "        sum_of_products = sum(a*b for a, b in zip(numbers[0:9], range(10, 1, -1)))\n",
    "        expected_digit = (sum_of_products * 10 % 11) % 10\n",
    "        if numbers[9] != expected_digit:\n",
    "         validation=False\n",
    "         validation_rule = 'Primeiro digito verificador inválido'\n",
    "\n",
    "    # Validação do segundo dígito verificador:\n",
    "        sum_of_products = sum(a*b for a, b in zip(numbers[0:10], range(11, 1, -1)))\n",
    "        expected_digit = (sum_of_products * 10 % 11) % 10\n",
    "        if numbers[10] != expected_digit:\n",
    "            validation=False\n",
    "            validation_rule = 'segundo dígito verificador inválido'\n",
    "\n",
    "        validation_list.append(validation)\n",
    "        validation_rule_list.append(validation_rule)\n",
    "\n",
    "    cpf_df['cpf'] =list_cpf\n",
    "    cpf_df['validado'] = validation_list\n",
    "    cpf_df['Regra_de_validacao'] = validation_rule\n",
    "    return cpf_df"
   ]
  },
  {
   "cell_type": "code",
   "execution_count": 17,
   "metadata": {},
   "outputs": [
    {
     "data": {
      "text/html": [
       "<div>\n",
       "<style scoped>\n",
       "    .dataframe tbody tr th:only-of-type {\n",
       "        vertical-align: middle;\n",
       "    }\n",
       "\n",
       "    .dataframe tbody tr th {\n",
       "        vertical-align: top;\n",
       "    }\n",
       "\n",
       "    .dataframe thead th {\n",
       "        text-align: right;\n",
       "    }\n",
       "</style>\n",
       "<table border=\"1\" class=\"dataframe\">\n",
       "  <thead>\n",
       "    <tr style=\"text-align: right;\">\n",
       "      <th></th>\n",
       "      <th>cpf</th>\n",
       "      <th>Regra_de_validacao</th>\n",
       "      <th>validado</th>\n",
       "    </tr>\n",
       "  </thead>\n",
       "  <tbody>\n",
       "    <tr>\n",
       "      <th>0</th>\n",
       "      <td>358.269.668-58</td>\n",
       "      <td>segundo dígito verificador inválido</td>\n",
       "      <td>True</td>\n",
       "    </tr>\n",
       "    <tr>\n",
       "      <th>1</th>\n",
       "      <td>122.220.080-50</td>\n",
       "      <td>segundo dígito verificador inválido</td>\n",
       "      <td>True</td>\n",
       "    </tr>\n",
       "    <tr>\n",
       "      <th>2</th>\n",
       "      <td>103.847.309-15</td>\n",
       "      <td>segundo dígito verificador inválido</td>\n",
       "      <td>False</td>\n",
       "    </tr>\n",
       "  </tbody>\n",
       "</table>\n",
       "</div>"
      ],
      "text/plain": [
       "              cpf                   Regra_de_validacao  validado\n",
       "0  358.269.668-58  segundo dígito verificador inválido      True\n",
       "1  122.220.080-50  segundo dígito verificador inválido      True\n",
       "2  103.847.309-15  segundo dígito verificador inválido     False"
      ]
     },
     "execution_count": 17,
     "metadata": {},
     "output_type": "execute_result"
    }
   ],
   "source": [
    "lambda_metodo()"
   ]
  },
  {
   "cell_type": "code",
   "execution_count": null,
   "metadata": {},
   "outputs": [],
   "source": []
  }
 ],
 "metadata": {
  "kernelspec": {
   "display_name": "Python 3",
   "language": "python",
   "name": "python3"
  },
  "language_info": {
   "codemirror_mode": {
    "name": "ipython",
    "version": 3
   },
   "file_extension": ".py",
   "mimetype": "text/x-python",
   "name": "python",
   "nbconvert_exporter": "python",
   "pygments_lexer": "ipython3",
   "version": "3.11.2"
  },
  "orig_nbformat": 4
 },
 "nbformat": 4,
 "nbformat_minor": 2
}
