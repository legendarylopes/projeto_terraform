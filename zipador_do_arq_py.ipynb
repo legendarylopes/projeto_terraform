{
 "cells": [
  {
   "cell_type": "code",
   "execution_count": 1,
   "metadata": {},
   "outputs": [],
   "source": [
    "import zipfile\n",
    "import os\n",
    "# o"
   ]
  },
  {
   "cell_type": "code",
   "execution_count": 5,
   "metadata": {},
   "outputs": [
    {
     "name": "stdout",
     "output_type": "stream",
     "text": [
      "lambda_function.py adicionado ao lambda_function_payload.zip!\n"
     ]
    }
   ],
   "source": [
    "# Nome do arquivo que você deseja criar\n",
    "nome_zip = 'lambda_function_payload.zip'\n",
    "\n",
    "# Nome do arquivo .py que você deseja adicionar ao arquivo zip\n",
    "nome_arquivo = 'lambda_function.py'\n",
    "\n",
    "# Caminho para o diretório que contém o arquivo .py\n",
    "caminho_dir = './'\n",
    "\n",
    "# Crie um objeto ZipFile e abra o arquivo no modo de gravação\n",
    "with zipfile.ZipFile(nome_zip, 'w') as zipf:\n",
    "    # Adicione o arquivo .py ao arquivo zip\n",
    "    zipf.write(os.path.join(caminho_dir, nome_arquivo), nome_arquivo)\n",
    "    \n",
    "print(f'{nome_arquivo} adicionado ao {nome_zip}!')\n"
   ]
  }
 ],
 "metadata": {
  "kernelspec": {
   "display_name": "Python 3",
   "language": "python",
   "name": "python3"
  },
  "language_info": {
   "codemirror_mode": {
    "name": "ipython",
    "version": 3
   },
   "file_extension": ".py",
   "mimetype": "text/x-python",
   "name": "python",
   "nbconvert_exporter": "python",
   "pygments_lexer": "ipython3",
   "version": "3.10.10"
  },
  "orig_nbformat": 4
 },
 "nbformat": 4,
 "nbformat_minor": 2
}
